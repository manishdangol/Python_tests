{
 "cells": [
  {
   "cell_type": "code",
   "execution_count": 19,
   "id": "71e82f84-f247-4658-af68-2575ab7d9539",
   "metadata": {},
   "outputs": [
    {
     "name": "stdin",
     "output_type": "stream",
     "text": [
      "Guess the number between 1-15= 4\n"
     ]
    },
    {
     "name": "stdout",
     "output_type": "stream",
     "text": [
      "4 is less than the number\n"
     ]
    },
    {
     "name": "stdin",
     "output_type": "stream",
     "text": [
      "Guess the number between 1-15= 9\n"
     ]
    },
    {
     "name": "stdout",
     "output_type": "stream",
     "text": [
      "9 is greater than the number\n"
     ]
    },
    {
     "name": "stdin",
     "output_type": "stream",
     "text": [
      "Guess the number between 1-15= 6\n"
     ]
    },
    {
     "name": "stdout",
     "output_type": "stream",
     "text": [
      "6 is less than the number\n"
     ]
    },
    {
     "name": "stdin",
     "output_type": "stream",
     "text": [
      "Guess the number between 1-15= 7\n"
     ]
    },
    {
     "name": "stdout",
     "output_type": "stream",
     "text": [
      "7 is less than the number\n"
     ]
    },
    {
     "name": "stdin",
     "output_type": "stream",
     "text": [
      "Guess the number between 1-15= 8\n"
     ]
    },
    {
     "name": "stdout",
     "output_type": "stream",
     "text": [
      "Correct!!!\n",
      "The number is  8\n"
     ]
    }
   ],
   "source": [
    "import random\n",
    "\n",
    "number=random.randint(1,15)\n",
    "#print(number)\n",
    "\n",
    "try:\n",
    "    guess=0\n",
    "\n",
    "    while guess!=number:\n",
    "        guess=int(input(\"Guess the number between 1-15=\"))\n",
    "        if guess>0:\n",
    "            if guess<number:\n",
    "                print(guess, \"is less than the number\")\n",
    "            \n",
    "            elif guess>number:\n",
    "                print(guess, \"is greater than the number\")\n",
    "            \n",
    "            else:\n",
    "                print(\"Correct!!!\")\n",
    "                print(\"The number is \", number)\n",
    "        else:\n",
    "            print(\"Please choose number between 1-15\")\n",
    "            continue\n",
    "            \n",
    "except:\n",
    "    print(\"ERROR\")\n",
    "\n"
   ]
  }
 ],
 "metadata": {
  "kernelspec": {
   "display_name": "Python 3 (ipykernel)",
   "language": "python",
   "name": "python3"
  },
  "language_info": {
   "codemirror_mode": {
    "name": "ipython",
    "version": 3
   },
   "file_extension": ".py",
   "mimetype": "text/x-python",
   "name": "python",
   "nbconvert_exporter": "python",
   "pygments_lexer": "ipython3",
   "version": "3.12.4"
  }
 },
 "nbformat": 4,
 "nbformat_minor": 5
}
