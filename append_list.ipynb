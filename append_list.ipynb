{
 "cells": [
  {
   "cell_type": "code",
   "execution_count": 3,
   "id": "3365e6b5-8393-4972-8ad0-b5080f4f8a1a",
   "metadata": {},
   "outputs": [
    {
     "name": "stdin",
     "output_type": "stream",
     "text": [
      "Input Text= manish\n"
     ]
    }
   ],
   "source": [
    "question=input(\"Input Text=\")"
   ]
  },
  {
   "cell_type": "code",
   "execution_count": 80,
   "id": "b4880ea8-886f-4e2a-9e78-4504dea76cc8",
   "metadata": {},
   "outputs": [],
   "source": [
    "list=[]\n",
    "value\n",
    "Y=\"Y\"\n",
    "N=\"N\""
   ]
  },
  {
   "cell_type": "code",
   "execution_count": 81,
   "id": "9239dca3-58b5-404b-b399-88ecb930fbd3",
   "metadata": {},
   "outputs": [],
   "source": [
    "def input_text(text):\n",
    "    if text!=' ':\n",
    "        list.append(text)\n",
    "    else:\n",
    "        print(list)"
   ]
  },
  {
   "cell_type": "code",
   "execution_count": 99,
   "id": "b58b8a66-c3ee-4cd4-bf6b-6a79a8ba00fa",
   "metadata": {},
   "outputs": [],
   "source": [
    "def check(variable):\n",
    "    \n",
    "    if variable.upper()==\"Y\":\n",
    "        return \"Y\"\n",
    "    elif variable.upper()==\"N\":\n",
    "       return \"N\"\n",
    "    else:\n",
    "        print(\"ERROR\")\n",
    "        return \"N\"\n",
    "      \n",
    "        "
   ]
  },
  {
   "cell_type": "code",
   "execution_count": 101,
   "id": "ea3392e0-a9e4-48e3-8543-4d9a32ca9e73",
   "metadata": {},
   "outputs": [
    {
     "name": "stdin",
     "output_type": "stream",
     "text": [
      "Input Text(Y/N) =  y\n",
      "List Item= play\n",
      "Input Text=Y/N n\n"
     ]
    },
    {
     "name": "stdout",
     "output_type": "stream",
     "text": [
      "['d', 'd', 'f', 'f', 'f', 'manish', 'dangol', 'play']\n"
     ]
    }
   ],
   "source": [
    "question=input(\"Input Text(Y/N) = \")\n",
    "\n",
    "value=chech(question)\n",
    "\n",
    "while value!=N:\n",
    "    \n",
    "    text=input(\"List Item=\")\n",
    "    input_text(text)\n",
    "    question=input(\"Input Text=Y/N\")\n",
    "    exit=check(question)\n",
    "    if exit==N:\n",
    "        break\n",
    " \n",
    "print(list)\n",
    "\n"
   ]
  }
 ],
 "metadata": {
  "kernelspec": {
   "display_name": "Python 3 (ipykernel)",
   "language": "python",
   "name": "python3"
  },
  "language_info": {
   "codemirror_mode": {
    "name": "ipython",
    "version": 3
   },
   "file_extension": ".py",
   "mimetype": "text/x-python",
   "name": "python",
   "nbconvert_exporter": "python",
   "pygments_lexer": "ipython3",
   "version": "3.12.4"
  }
 },
 "nbformat": 4,
 "nbformat_minor": 5
}
